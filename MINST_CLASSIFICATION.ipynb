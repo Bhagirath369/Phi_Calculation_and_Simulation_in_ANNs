{
  "nbformat": 4,
  "nbformat_minor": 0,
  "metadata": {
    "colab": {
      "provenance": [],
      "authorship_tag": "ABX9TyO1v4M8DMudz320fekM5Gwh",
      "include_colab_link": true
    },
    "kernelspec": {
      "name": "python3",
      "display_name": "Python 3"
    },
    "language_info": {
      "name": "python"
    }
  },
  "cells": [
    {
      "cell_type": "markdown",
      "metadata": {
        "id": "view-in-github",
        "colab_type": "text"
      },
      "source": [
        "<a href=\"https://colab.research.google.com/github/Bhagirath369/Phi_Calculation_and_Simulation_in_ANNs/blob/main/MINST_CLASSIFICATION.ipynb\" target=\"_parent\"><img src=\"https://colab.research.google.com/assets/colab-badge.svg\" alt=\"Open In Colab\"/></a>"
      ]
    },
    {
      "cell_type": "markdown",
      "source": [
        "# MINST CLASSIFICATION\n",
        "## Extracting the 4 hidden neurons"
      ],
      "metadata": {
        "id": "hb9LuTVCG4Vb"
      }
    },
    {
      "cell_type": "code",
      "execution_count": null,
      "metadata": {
        "colab": {
          "base_uri": "https://localhost:8080/"
        },
        "id": "5_ejm1tTAeyD",
        "outputId": "d634732d-73a7-493d-de5d-9e8c80e9d0f4"
      },
      "outputs": [
        {
          "output_type": "stream",
          "name": "stdout",
          "text": [
            "Epoch 1/3\n",
            "\u001b[1m1875/1875\u001b[0m \u001b[32m━━━━━━━━━━━━━━━━━━━━\u001b[0m\u001b[37m\u001b[0m \u001b[1m5s\u001b[0m 2ms/step - accuracy: 0.5647 - loss: 1.3988\n",
            "Epoch 2/3\n",
            "\u001b[1m1875/1875\u001b[0m \u001b[32m━━━━━━━━━━━━━━━━━━━━\u001b[0m\u001b[37m\u001b[0m \u001b[1m5s\u001b[0m 2ms/step - accuracy: 0.8046 - loss: 0.6523\n",
            "Epoch 3/3\n",
            "\u001b[1m1875/1875\u001b[0m \u001b[32m━━━━━━━━━━━━━━━━━━━━\u001b[0m\u001b[37m\u001b[0m \u001b[1m4s\u001b[0m 2ms/step - accuracy: 0.8268 - loss: 0.5734\n"
          ]
        }
      ],
      "source": [
        "from tensorflow.keras import Input\n",
        "from tensorflow.keras.models import Model\n",
        "from tensorflow.keras.layers import Flatten, Dense\n",
        "from tensorflow import keras\n",
        "from tensorflow.keras.utils import to_categorical\n",
        "\n",
        "(X_train, Y_train),(X_test, Y_test) = keras.datasets.mnist.load_data()\n",
        "X_train = X_train.astype('float32') / 255.0\n",
        "X_test = X_test.astype('float32') / 255.0\n",
        "\n",
        "y_train = to_categorical(Y_train, 10)\n",
        "y_test = to_categorical(Y_test, 10)\n",
        "\n",
        "# Define input explicitly\n",
        "input_layer = Input(shape=(28, 28))\n",
        "flattened = Flatten()(input_layer)\n",
        "hidden = Dense(4, activation='relu')(flattened)\n",
        "output = Dense(10, activation='softmax')(hidden)\n",
        "\n",
        "# Build and compile model\n",
        "model = Model(inputs=input_layer, outputs=output)\n",
        "model.compile(optimizer='adam', loss='categorical_crossentropy', metrics=['accuracy'])\n",
        "model.fit(X_train, y_train, epochs=3)\n",
        "\n",
        "# Safely extracting any layer:\n",
        "reduced_model = Model(inputs=model.input, outputs=hidden)\n"
      ]
    },
    {
      "cell_type": "markdown",
      "source": [
        "# Simulating all 16 Binary Inputs\n",
        "\n",
        "\n"
      ],
      "metadata": {
        "id": "SpaYHCebH1eN"
      }
    },
    {
      "cell_type": "code",
      "source": [
        "from tensorflow.keras.layers import Input\n",
        "import numpy as np\n",
        "\n",
        "# Create a manual 4-input model (to match binary inputs)\n",
        "input_layer = Input(shape=(4,))\n",
        "hidden = Dense(4, activation='relu')(input_layer)\n",
        "reduced_model = Model(inputs=input_layer, outputs=hidden)\n",
        "\n",
        "# Optionally train it on dummy binary data:\n",
        "x_bin = np.array([[int(x) for x in format(i, '04b')] for i in range(16)])\n",
        "y_bin = np.random.randint(0, 2, (16, 4))\n",
        "reduced_model.compile(optimizer='adam', loss='mse')\n",
        "reduced_model.fit(x_bin, y_bin, epochs=100, verbose=0)\n"
      ],
      "metadata": {
        "colab": {
          "base_uri": "https://localhost:8080/"
        },
        "id": "gvGfTY4DBCNJ",
        "outputId": "b4f5c2e5-77f4-4288-cbf4-75d6d990fdbe"
      },
      "execution_count": null,
      "outputs": [
        {
          "output_type": "execute_result",
          "data": {
            "text/plain": [
              "<keras.src.callbacks.history.History at 0x7b527ae58210>"
            ]
          },
          "metadata": {},
          "execution_count": 13
        }
      ]
    },
    {
      "cell_type": "markdown",
      "source": [
        "# Run 16 Binary Inputs Through the Model"
      ],
      "metadata": {
        "id": "q9s4qSEFIR-G"
      }
    },
    {
      "cell_type": "code",
      "source": [
        "# Reuse the 16 binary states\n",
        "binary_inputs = np.array([[int(x) for x in format(i, '04b')] for i in range(16)])\n",
        "\n",
        "# Run through reduced model\n",
        "outputs = reduced_model.predict(binary_inputs, verbose=0)\n",
        "print(\"Outputs: \\n\",outputs,\"\\n\")\n",
        "\n",
        "# Binarize outputs (e.g., activation > 0.5 = 1)\n",
        "binarized_outputs = (outputs > 0.5).astype(int)\n",
        "\n",
        "# TPM: current → next state\n",
        "tpm = binarized_outputs\n",
        "print(\"TPM shape:\", tpm.shape)\n",
        "print(\"TPM:\\n\", tpm)\n"
      ],
      "metadata": {
        "colab": {
          "base_uri": "https://localhost:8080/"
        },
        "id": "2Yf71K0FH68G",
        "outputId": "877bea61-bc80-4e7a-c790-0fec6fc564c0"
      },
      "execution_count": null,
      "outputs": [
        {
          "output_type": "stream",
          "name": "stdout",
          "text": [
            "Outputs: \n",
            " [[0.         0.         0.08568706 0.        ]\n",
            " [0.5836316  0.         0.03117333 0.        ]\n",
            " [0.         0.         0.         0.20972581]\n",
            " [0.18490545 0.         0.         0.        ]\n",
            " [0.5883962  0.6568291  0.19462201 0.        ]\n",
            " [1.2620331  0.28334907 0.14010829 0.        ]\n",
            " [0.18967007 0.5340871  0.         0.        ]\n",
            " [0.863307   0.1606071  0.         0.        ]\n",
            " [0.5303606  0.4304913  0.3735573  0.        ]\n",
            " [1.2039975  0.05701125 0.31904358 0.        ]\n",
            " [0.13163446 0.30774933 0.         0.        ]\n",
            " [0.8052713  0.         0.         0.        ]\n",
            " [1.208762   1.1295154  0.48249224 0.        ]\n",
            " [1.882399   0.7560354  0.42797852 0.        ]\n",
            " [0.81003594 1.0067735  0.         0.        ]\n",
            " [1.4836729  0.63329345 0.         0.        ]] \n",
            "\n",
            "TPM shape: (16, 4)\n",
            "TPM:\n",
            " [[0 0 0 0]\n",
            " [1 0 0 0]\n",
            " [0 0 0 0]\n",
            " [0 0 0 0]\n",
            " [1 1 0 0]\n",
            " [1 0 0 0]\n",
            " [0 1 0 0]\n",
            " [1 0 0 0]\n",
            " [1 0 0 0]\n",
            " [1 0 0 0]\n",
            " [0 0 0 0]\n",
            " [1 0 0 0]\n",
            " [1 1 0 0]\n",
            " [1 1 0 0]\n",
            " [1 1 0 0]\n",
            " [1 1 0 0]]\n"
          ]
        }
      ]
    },
    {
      "cell_type": "code",
      "source": [
        "connectivity_matrix = np.ones((4, 4), dtype=int) - np.eye(4, dtype=int)\n",
        "\n"
      ],
      "metadata": {
        "id": "vUv4jYQpIYEO"
      },
      "execution_count": null,
      "outputs": []
    },
    {
      "cell_type": "code",
      "source": [
        "print(\"Connectivity Matrix:\\n\",connectivity_matrix)"
      ],
      "metadata": {
        "colab": {
          "base_uri": "https://localhost:8080/"
        },
        "id": "PrIllsUwIjtt",
        "outputId": "7bdaf99b-5a85-47d5-c684-61e8225fa75a"
      },
      "execution_count": null,
      "outputs": [
        {
          "output_type": "stream",
          "name": "stdout",
          "text": [
            "Connectivity Matrix:\n",
            " [[0 1 1 1]\n",
            " [1 0 1 1]\n",
            " [1 1 0 1]\n",
            " [1 1 1 0]]\n"
          ]
        }
      ]
    },
    {
      "cell_type": "code",
      "source": [
        "x_bin = np.array([[int(x) for x in format(i, '04b')] for i in range(16)])\n",
        "y_bin = np.random.randint(0, 2, (16, 4))\n",
        "print(x_bin,\"\\n\")\n",
        "print(y_bin)"
      ],
      "metadata": {
        "colab": {
          "base_uri": "https://localhost:8080/"
        },
        "id": "BHGlGUcwIscG",
        "outputId": "aff7ed95-4143-4501-9845-5ff4d7ee5ea5"
      },
      "execution_count": null,
      "outputs": [
        {
          "output_type": "stream",
          "name": "stdout",
          "text": [
            "[[0 0 0 0]\n",
            " [0 0 0 1]\n",
            " [0 0 1 0]\n",
            " [0 0 1 1]\n",
            " [0 1 0 0]\n",
            " [0 1 0 1]\n",
            " [0 1 1 0]\n",
            " [0 1 1 1]\n",
            " [1 0 0 0]\n",
            " [1 0 0 1]\n",
            " [1 0 1 0]\n",
            " [1 0 1 1]\n",
            " [1 1 0 0]\n",
            " [1 1 0 1]\n",
            " [1 1 1 0]\n",
            " [1 1 1 1]] \n",
            "\n",
            "[[1 1 1 1]\n",
            " [0 1 0 0]\n",
            " [1 0 0 1]\n",
            " [1 1 0 1]\n",
            " [0 1 1 0]\n",
            " [1 1 1 0]\n",
            " [0 1 0 1]\n",
            " [1 0 0 1]\n",
            " [0 1 1 1]\n",
            " [0 0 0 1]\n",
            " [1 0 0 1]\n",
            " [1 0 0 0]\n",
            " [0 0 0 0]\n",
            " [1 1 0 1]\n",
            " [0 1 0 1]\n",
            " [1 1 0 0]]\n"
          ]
        }
      ]
    },
    {
      "cell_type": "code",
      "source": [
        "!python -m pip install -U git+https://github.com/wmayner/pyphi.git@feature/iit-4.0"
      ],
      "metadata": {
        "colab": {
          "base_uri": "https://localhost:8080/"
        },
        "id": "yS3H2J64fdLD",
        "outputId": "a6d77a87-faa2-4f46-def1-6f8d8a2b10ed"
      },
      "execution_count": null,
      "outputs": [
        {
          "output_type": "stream",
          "name": "stdout",
          "text": [
            "Collecting git+https://github.com/wmayner/pyphi.git@feature/iit-4.0\n",
            "  Cloning https://github.com/wmayner/pyphi.git (to revision feature/iit-4.0) to /tmp/pip-req-build-foe6sizo\n",
            "  Running command git clone --filter=blob:none --quiet https://github.com/wmayner/pyphi.git /tmp/pip-req-build-foe6sizo\n",
            "  Resolved https://github.com/wmayner/pyphi.git to commit 941c65ad81286bc4c33fed9a6669e7566a5d4171\n",
            "  Installing build dependencies ... \u001b[?25l\u001b[?25hdone\n",
            "  Getting requirements to build wheel ... \u001b[?25l\u001b[?25hdone\n",
            "  Preparing metadata (pyproject.toml) ... \u001b[?25l\u001b[?25hdone\n",
            "Collecting graphillion>=1.5 (from pyphi==2.0.0a1)\n",
            "  Downloading graphillion-2.1-cp311-cp311-manylinux_2_17_x86_64.manylinux2014_x86_64.whl.metadata (62 kB)\n",
            "\u001b[2K     \u001b[90m━━━━━━━━━━━━━━━━━━━━━━━━━━━━━━━━━━━━━━━━\u001b[0m \u001b[32m62.5/62.5 kB\u001b[0m \u001b[31m2.9 MB/s\u001b[0m eta \u001b[36m0:00:00\u001b[0m\n",
            "\u001b[?25hRequirement already satisfied: joblib>=0.8.0 in /usr/local/lib/python3.11/dist-packages (from pyphi==2.0.0a1) (1.5.1)\n",
            "Requirement already satisfied: more-itertools>=8.13.0 in /usr/local/lib/python3.11/dist-packages (from pyphi==2.0.0a1) (10.7.0)\n",
            "Requirement already satisfied: numpy in /usr/local/lib/python3.11/dist-packages (from pyphi==2.0.0a1) (2.0.2)\n",
            "Collecting ordered-set>=4.0.2 (from pyphi==2.0.0a1)\n",
            "  Downloading ordered_set-4.1.0-py3-none-any.whl.metadata (5.3 kB)\n",
            "Requirement already satisfied: pandas>=2.0.0 in /usr/local/lib/python3.11/dist-packages (from pyphi==2.0.0a1) (2.2.2)\n",
            "Requirement already satisfied: psutil>=2.1.1 in /usr/local/lib/python3.11/dist-packages (from pyphi==2.0.0a1) (5.9.5)\n",
            "Requirement already satisfied: pyyaml>=3.13 in /usr/local/lib/python3.11/dist-packages (from pyphi==2.0.0a1) (6.0.2)\n",
            "Requirement already satisfied: scipy>=0.13.3 in /usr/local/lib/python3.11/dist-packages (from pyphi==2.0.0a1) (1.15.3)\n",
            "Requirement already satisfied: tblib>=1.3.2 in /usr/local/lib/python3.11/dist-packages (from pyphi==2.0.0a1) (3.1.0)\n",
            "Requirement already satisfied: toolz>=0.9.0 in /usr/local/lib/python3.11/dist-packages (from pyphi==2.0.0a1) (0.12.1)\n",
            "Requirement already satisfied: tqdm>=4.20.0 in /usr/local/lib/python3.11/dist-packages (from pyphi==2.0.0a1) (4.67.1)\n",
            "Requirement already satisfied: python-dateutil>=2.8.2 in /usr/local/lib/python3.11/dist-packages (from pandas>=2.0.0->pyphi==2.0.0a1) (2.9.0.post0)\n",
            "Requirement already satisfied: pytz>=2020.1 in /usr/local/lib/python3.11/dist-packages (from pandas>=2.0.0->pyphi==2.0.0a1) (2025.2)\n",
            "Requirement already satisfied: tzdata>=2022.7 in /usr/local/lib/python3.11/dist-packages (from pandas>=2.0.0->pyphi==2.0.0a1) (2025.2)\n",
            "Requirement already satisfied: six>=1.5 in /usr/local/lib/python3.11/dist-packages (from python-dateutil>=2.8.2->pandas>=2.0.0->pyphi==2.0.0a1) (1.17.0)\n",
            "Downloading graphillion-2.1-cp311-cp311-manylinux_2_17_x86_64.manylinux2014_x86_64.whl (10.2 MB)\n",
            "\u001b[2K   \u001b[90m━━━━━━━━━━━━━━━━━━━━━━━━━━━━━━━━━━━━━━━━\u001b[0m \u001b[32m10.2/10.2 MB\u001b[0m \u001b[31m63.2 MB/s\u001b[0m eta \u001b[36m0:00:00\u001b[0m\n",
            "\u001b[?25hDownloading ordered_set-4.1.0-py3-none-any.whl (7.6 kB)\n",
            "Building wheels for collected packages: pyphi\n",
            "  Building wheel for pyphi (pyproject.toml) ... \u001b[?25l\u001b[?25hdone\n",
            "  Created wheel for pyphi: filename=pyphi-2.0.0a1-py3-none-any.whl size=699477 sha256=373ba35b12bfeace094d31d6a2027fd9073c5d598f018f0034756cfceac7b00f\n",
            "  Stored in directory: /tmp/pip-ephem-wheel-cache-moq2ui1r/wheels/3b/74/de/fcf0c56231d1dc4bc2ac9a33b180c5ed4d3b2ed7a9090a63b2\n",
            "Successfully built pyphi\n",
            "Installing collected packages: graphillion, ordered-set, pyphi\n",
            "Successfully installed graphillion-2.1 ordered-set-4.1.0 pyphi-2.0.0a1\n"
          ]
        }
      ]
    },
    {
      "cell_type": "code",
      "source": [
        "import pyphi\n",
        "import numpy as np\n",
        "import itertools\n",
        "\n",
        "pyphi.config.PROGRESS_BARS = False\n",
        "pyphi.config.PARALLEL = False\n",
        "#pyphi.config.SHORTCIRCUIT_SIA = False\n",
        "#pyphi.config.VALIDATE_SUBSYSTEM_STATES = False"
      ],
      "metadata": {
        "colab": {
          "base_uri": "https://localhost:8080/"
        },
        "id": "bxkP5VDklHuC",
        "outputId": "16be8e91-6f83-4aa5-e54b-48f87dfd8afc"
      },
      "execution_count": null,
      "outputs": [
        {
          "output_type": "stream",
          "name": "stdout",
          "text": [
            "\n",
            "Welcome to PyPhi!\n",
            "\n",
            "If you use PyPhi in your research, please cite the paper:\n",
            "\n",
            "  Mayner WGP, Marshall W, Albantakis L, Findlay G, Marchman R, Tononi G.\n",
            "  (2018). PyPhi: A toolbox for integrated information theory.\n",
            "  PLOS Computational Biology 14(7): e1006343.\n",
            "  https://doi.org/10.1371/journal.pcbi.1006343\n",
            "\n",
            "Documentation is available online (or with the built-in `help()` function):\n",
            "  https://pyphi.readthedocs.io\n",
            "\n",
            "To report issues, please use the issue tracker on the GitHub repository:\n",
            "  https://github.com/wmayner/pyphi\n",
            "\n",
            "For general discussion, you are welcome to join the pyphi-users group:\n",
            "  https://groups.google.com/forum/#!forum/pyphi-users\n",
            "\n",
            "To suppress this message, either:\n",
            "  - Set `WELCOME_OFF: true` in your `pyphi_config.yml` file, or\n",
            "  - Set the environment variable PYPHI_WELCOME_OFF to any value in your shell:\n",
            "        export PYPHI_WELCOME_OFF='yes'\n",
            "\n"
          ]
        }
      ]
    },
    {
      "cell_type": "code",
      "source": [
        "print('Substrate TPM: \\n(input state) : probability that units turn ON')\n",
        "input_state=binary_inputs\n",
        "transition_probability=outputs\n",
        "for input_state, transition_probability in zip(input_state, transition_probability):\n",
        "  print(f'{input_state} : {transition_probability}')"
      ],
      "metadata": {
        "colab": {
          "base_uri": "https://localhost:8080/"
        },
        "id": "hhxWLYcWle-2",
        "outputId": "85430bd3-a215-414c-b9a2-3193b7782d3d"
      },
      "execution_count": null,
      "outputs": [
        {
          "output_type": "stream",
          "name": "stdout",
          "text": [
            "Substrate TPM: \n",
            "(input state) : probability that units turn ON\n",
            "[0 0 0 0] : [0.         0.         0.08568706 0.        ]\n",
            "[0 0 0 1] : [0.5836316  0.         0.03117333 0.        ]\n",
            "[0 0 1 0] : [0.         0.         0.         0.20972581]\n",
            "[0 0 1 1] : [0.18490545 0.         0.         0.        ]\n",
            "[0 1 0 0] : [0.5883962  0.6568291  0.19462201 0.        ]\n",
            "[0 1 0 1] : [1.2620331  0.28334907 0.14010829 0.        ]\n",
            "[0 1 1 0] : [0.18967007 0.5340871  0.         0.        ]\n",
            "[0 1 1 1] : [0.863307  0.1606071 0.        0.       ]\n",
            "[1 0 0 0] : [0.5303606 0.4304913 0.3735573 0.       ]\n",
            "[1 0 0 1] : [1.2039975  0.05701125 0.31904358 0.        ]\n",
            "[1 0 1 0] : [0.13163446 0.30774933 0.         0.        ]\n",
            "[1 0 1 1] : [0.8052713 0.        0.        0.       ]\n",
            "[1 1 0 0] : [1.208762   1.1295154  0.48249224 0.        ]\n",
            "[1 1 0 1] : [1.882399   0.7560354  0.42797852 0.        ]\n",
            "[1 1 1 0] : [0.81003594 1.0067735  0.         0.        ]\n",
            "[1 1 1 1] : [1.4836729  0.63329345 0.         0.        ]\n"
          ]
        }
      ]
    },
    {
      "cell_type": "code",
      "source": [
        "print('Substrate TPM: \\n(input state) : Binarized TPM(activation>0.5)')\n",
        "input_state=binary_inputs\n",
        "transition_probability=tpm\n",
        "for input_state, transition_probability in zip(input_state, transition_probability):\n",
        "  print(f'{input_state} : {transition_probability}')"
      ],
      "metadata": {
        "colab": {
          "base_uri": "https://localhost:8080/"
        },
        "id": "-hy_PeILnEZW",
        "outputId": "ede30446-57d6-410f-df6b-bbd2d5835cf4"
      },
      "execution_count": null,
      "outputs": [
        {
          "output_type": "stream",
          "name": "stdout",
          "text": [
            "Substrate TPM: \n",
            "(input state) : Binarized TPM(activation>0.5)\n",
            "[0 0 0 0] : [0 0 0 0]\n",
            "[0 0 0 1] : [1 0 0 0]\n",
            "[0 0 1 0] : [0 0 0 0]\n",
            "[0 0 1 1] : [0 0 0 0]\n",
            "[0 1 0 0] : [1 1 0 0]\n",
            "[0 1 0 1] : [1 0 0 0]\n",
            "[0 1 1 0] : [0 1 0 0]\n",
            "[0 1 1 1] : [1 0 0 0]\n",
            "[1 0 0 0] : [1 0 0 0]\n",
            "[1 0 0 1] : [1 0 0 0]\n",
            "[1 0 1 0] : [0 0 0 0]\n",
            "[1 0 1 1] : [1 0 0 0]\n",
            "[1 1 0 0] : [1 1 0 0]\n",
            "[1 1 0 1] : [1 1 0 0]\n",
            "[1 1 1 0] : [1 1 0 0]\n",
            "[1 1 1 1] : [1 1 0 0]\n"
          ]
        }
      ]
    },
    {
      "cell_type": "code",
      "source": [
        "!pip install 'pyphi[parallel]'\n"
      ],
      "metadata": {
        "colab": {
          "base_uri": "https://localhost:8080/"
        },
        "id": "EfcJhFL4n66V",
        "outputId": "6d50fc75-786b-46c4-e1b3-cfd81040f24a"
      },
      "execution_count": null,
      "outputs": [
        {
          "output_type": "stream",
          "name": "stdout",
          "text": [
            "Requirement already satisfied: pyphi[parallel] in /usr/local/lib/python3.11/dist-packages (2.0.0a1)\n",
            "Requirement already satisfied: graphillion>=1.5 in /usr/local/lib/python3.11/dist-packages (from pyphi[parallel]) (2.1)\n",
            "Requirement already satisfied: joblib>=0.8.0 in /usr/local/lib/python3.11/dist-packages (from pyphi[parallel]) (1.5.1)\n",
            "Requirement already satisfied: more-itertools>=8.13.0 in /usr/local/lib/python3.11/dist-packages (from pyphi[parallel]) (10.7.0)\n",
            "Requirement already satisfied: numpy in /usr/local/lib/python3.11/dist-packages (from pyphi[parallel]) (2.0.2)\n",
            "Requirement already satisfied: ordered-set>=4.0.2 in /usr/local/lib/python3.11/dist-packages (from pyphi[parallel]) (4.1.0)\n",
            "Requirement already satisfied: pandas>=2.0.0 in /usr/local/lib/python3.11/dist-packages (from pyphi[parallel]) (2.2.2)\n",
            "Requirement already satisfied: psutil>=2.1.1 in /usr/local/lib/python3.11/dist-packages (from pyphi[parallel]) (5.9.5)\n",
            "Requirement already satisfied: pyyaml>=3.13 in /usr/local/lib/python3.11/dist-packages (from pyphi[parallel]) (6.0.2)\n",
            "Requirement already satisfied: scipy>=0.13.3 in /usr/local/lib/python3.11/dist-packages (from pyphi[parallel]) (1.15.3)\n",
            "Requirement already satisfied: tblib>=1.3.2 in /usr/local/lib/python3.11/dist-packages (from pyphi[parallel]) (3.1.0)\n",
            "Requirement already satisfied: toolz>=0.9.0 in /usr/local/lib/python3.11/dist-packages (from pyphi[parallel]) (0.12.1)\n",
            "Requirement already satisfied: tqdm>=4.20.0 in /usr/local/lib/python3.11/dist-packages (from pyphi[parallel]) (4.67.1)\n",
            "Collecting ray>=1.9.2 (from ray[default]>=1.9.2; extra == \"parallel\"->pyphi[parallel])\n",
            "  Downloading ray-2.47.1-cp311-cp311-manylinux2014_x86_64.whl.metadata (20 kB)\n",
            "Requirement already satisfied: python-dateutil>=2.8.2 in /usr/local/lib/python3.11/dist-packages (from pandas>=2.0.0->pyphi[parallel]) (2.9.0.post0)\n",
            "Requirement already satisfied: pytz>=2020.1 in /usr/local/lib/python3.11/dist-packages (from pandas>=2.0.0->pyphi[parallel]) (2025.2)\n",
            "Requirement already satisfied: tzdata>=2022.7 in /usr/local/lib/python3.11/dist-packages (from pandas>=2.0.0->pyphi[parallel]) (2025.2)\n",
            "Requirement already satisfied: click>=7.0 in /usr/local/lib/python3.11/dist-packages (from ray>=1.9.2->ray[default]>=1.9.2; extra == \"parallel\"->pyphi[parallel]) (8.2.1)\n",
            "Requirement already satisfied: filelock in /usr/local/lib/python3.11/dist-packages (from ray>=1.9.2->ray[default]>=1.9.2; extra == \"parallel\"->pyphi[parallel]) (3.18.0)\n",
            "Requirement already satisfied: jsonschema in /usr/local/lib/python3.11/dist-packages (from ray>=1.9.2->ray[default]>=1.9.2; extra == \"parallel\"->pyphi[parallel]) (4.24.0)\n",
            "Requirement already satisfied: msgpack<2.0.0,>=1.0.0 in /usr/local/lib/python3.11/dist-packages (from ray>=1.9.2->ray[default]>=1.9.2; extra == \"parallel\"->pyphi[parallel]) (1.1.1)\n",
            "Requirement already satisfied: packaging in /usr/local/lib/python3.11/dist-packages (from ray>=1.9.2->ray[default]>=1.9.2; extra == \"parallel\"->pyphi[parallel]) (24.2)\n",
            "Requirement already satisfied: protobuf!=3.19.5,>=3.15.3 in /usr/local/lib/python3.11/dist-packages (from ray>=1.9.2->ray[default]>=1.9.2; extra == \"parallel\"->pyphi[parallel]) (5.29.5)\n",
            "Requirement already satisfied: requests in /usr/local/lib/python3.11/dist-packages (from ray>=1.9.2->ray[default]>=1.9.2; extra == \"parallel\"->pyphi[parallel]) (2.32.3)\n",
            "Requirement already satisfied: aiohttp>=3.7 in /usr/local/lib/python3.11/dist-packages (from ray[default]>=1.9.2; extra == \"parallel\"->pyphi[parallel]) (3.11.15)\n",
            "Collecting aiohttp_cors (from ray[default]>=1.9.2; extra == \"parallel\"->pyphi[parallel])\n",
            "  Downloading aiohttp_cors-0.8.1-py3-none-any.whl.metadata (20 kB)\n",
            "Collecting colorful (from ray[default]>=1.9.2; extra == \"parallel\"->pyphi[parallel])\n",
            "  Downloading colorful-0.5.7-py2.py3-none-any.whl.metadata (16 kB)\n",
            "Collecting py-spy>=0.2.0 (from ray[default]>=1.9.2; extra == \"parallel\"->pyphi[parallel])\n",
            "  Downloading py_spy-0.4.0-py2.py3-none-manylinux_2_5_x86_64.manylinux1_x86_64.whl.metadata (16 kB)\n",
            "Requirement already satisfied: grpcio>=1.42.0 in /usr/local/lib/python3.11/dist-packages (from ray[default]>=1.9.2; extra == \"parallel\"->pyphi[parallel]) (1.73.1)\n",
            "Collecting opencensus (from ray[default]>=1.9.2; extra == \"parallel\"->pyphi[parallel])\n",
            "  Downloading opencensus-0.11.4-py2.py3-none-any.whl.metadata (12 kB)\n",
            "Collecting opentelemetry-sdk (from ray[default]>=1.9.2; extra == \"parallel\"->pyphi[parallel])\n",
            "  Downloading opentelemetry_sdk-1.34.1-py3-none-any.whl.metadata (1.6 kB)\n",
            "Collecting opentelemetry-exporter-prometheus (from ray[default]>=1.9.2; extra == \"parallel\"->pyphi[parallel])\n",
            "  Downloading opentelemetry_exporter_prometheus-0.55b1-py3-none-any.whl.metadata (1.9 kB)\n",
            "Collecting opentelemetry-proto (from ray[default]>=1.9.2; extra == \"parallel\"->pyphi[parallel])\n",
            "  Downloading opentelemetry_proto-1.34.1-py3-none-any.whl.metadata (2.4 kB)\n",
            "Requirement already satisfied: pydantic!=2.0.*,!=2.1.*,!=2.2.*,!=2.3.*,!=2.4.*,<3 in /usr/local/lib/python3.11/dist-packages (from ray[default]>=1.9.2; extra == \"parallel\"->pyphi[parallel]) (2.11.7)\n",
            "Requirement already satisfied: prometheus_client>=0.7.1 in /usr/local/lib/python3.11/dist-packages (from ray[default]>=1.9.2; extra == \"parallel\"->pyphi[parallel]) (0.22.1)\n",
            "Requirement already satisfied: smart_open in /usr/local/lib/python3.11/dist-packages (from ray[default]>=1.9.2; extra == \"parallel\"->pyphi[parallel]) (7.3.0)\n",
            "Collecting virtualenv!=20.21.1,>=20.0.24 (from ray[default]>=1.9.2; extra == \"parallel\"->pyphi[parallel])\n",
            "  Downloading virtualenv-20.31.2-py3-none-any.whl.metadata (4.5 kB)\n",
            "Requirement already satisfied: aiohappyeyeballs>=2.3.0 in /usr/local/lib/python3.11/dist-packages (from aiohttp>=3.7->ray[default]>=1.9.2; extra == \"parallel\"->pyphi[parallel]) (2.6.1)\n",
            "Requirement already satisfied: aiosignal>=1.1.2 in /usr/local/lib/python3.11/dist-packages (from aiohttp>=3.7->ray[default]>=1.9.2; extra == \"parallel\"->pyphi[parallel]) (1.3.2)\n",
            "Requirement already satisfied: attrs>=17.3.0 in /usr/local/lib/python3.11/dist-packages (from aiohttp>=3.7->ray[default]>=1.9.2; extra == \"parallel\"->pyphi[parallel]) (25.3.0)\n",
            "Requirement already satisfied: frozenlist>=1.1.1 in /usr/local/lib/python3.11/dist-packages (from aiohttp>=3.7->ray[default]>=1.9.2; extra == \"parallel\"->pyphi[parallel]) (1.7.0)\n",
            "Requirement already satisfied: multidict<7.0,>=4.5 in /usr/local/lib/python3.11/dist-packages (from aiohttp>=3.7->ray[default]>=1.9.2; extra == \"parallel\"->pyphi[parallel]) (6.6.3)\n",
            "Requirement already satisfied: propcache>=0.2.0 in /usr/local/lib/python3.11/dist-packages (from aiohttp>=3.7->ray[default]>=1.9.2; extra == \"parallel\"->pyphi[parallel]) (0.3.2)\n",
            "Requirement already satisfied: yarl<2.0,>=1.17.0 in /usr/local/lib/python3.11/dist-packages (from aiohttp>=3.7->ray[default]>=1.9.2; extra == \"parallel\"->pyphi[parallel]) (1.20.1)\n",
            "Requirement already satisfied: annotated-types>=0.6.0 in /usr/local/lib/python3.11/dist-packages (from pydantic!=2.0.*,!=2.1.*,!=2.2.*,!=2.3.*,!=2.4.*,<3->ray[default]>=1.9.2; extra == \"parallel\"->pyphi[parallel]) (0.7.0)\n",
            "Requirement already satisfied: pydantic-core==2.33.2 in /usr/local/lib/python3.11/dist-packages (from pydantic!=2.0.*,!=2.1.*,!=2.2.*,!=2.3.*,!=2.4.*,<3->ray[default]>=1.9.2; extra == \"parallel\"->pyphi[parallel]) (2.33.2)\n",
            "Requirement already satisfied: typing-extensions>=4.12.2 in /usr/local/lib/python3.11/dist-packages (from pydantic!=2.0.*,!=2.1.*,!=2.2.*,!=2.3.*,!=2.4.*,<3->ray[default]>=1.9.2; extra == \"parallel\"->pyphi[parallel]) (4.14.0)\n",
            "Requirement already satisfied: typing-inspection>=0.4.0 in /usr/local/lib/python3.11/dist-packages (from pydantic!=2.0.*,!=2.1.*,!=2.2.*,!=2.3.*,!=2.4.*,<3->ray[default]>=1.9.2; extra == \"parallel\"->pyphi[parallel]) (0.4.1)\n",
            "Requirement already satisfied: six>=1.5 in /usr/local/lib/python3.11/dist-packages (from python-dateutil>=2.8.2->pandas>=2.0.0->pyphi[parallel]) (1.17.0)\n",
            "Collecting distlib<1,>=0.3.7 (from virtualenv!=20.21.1,>=20.0.24->ray[default]>=1.9.2; extra == \"parallel\"->pyphi[parallel])\n",
            "  Downloading distlib-0.3.9-py2.py3-none-any.whl.metadata (5.2 kB)\n",
            "Requirement already satisfied: platformdirs<5,>=3.9.1 in /usr/local/lib/python3.11/dist-packages (from virtualenv!=20.21.1,>=20.0.24->ray[default]>=1.9.2; extra == \"parallel\"->pyphi[parallel]) (4.3.8)\n",
            "Requirement already satisfied: jsonschema-specifications>=2023.03.6 in /usr/local/lib/python3.11/dist-packages (from jsonschema->ray>=1.9.2->ray[default]>=1.9.2; extra == \"parallel\"->pyphi[parallel]) (2025.4.1)\n",
            "Requirement already satisfied: referencing>=0.28.4 in /usr/local/lib/python3.11/dist-packages (from jsonschema->ray>=1.9.2->ray[default]>=1.9.2; extra == \"parallel\"->pyphi[parallel]) (0.36.2)\n",
            "Requirement already satisfied: rpds-py>=0.7.1 in /usr/local/lib/python3.11/dist-packages (from jsonschema->ray>=1.9.2->ray[default]>=1.9.2; extra == \"parallel\"->pyphi[parallel]) (0.26.0)\n",
            "Collecting opencensus-context>=0.1.3 (from opencensus->ray[default]>=1.9.2; extra == \"parallel\"->pyphi[parallel])\n",
            "  Downloading opencensus_context-0.1.3-py2.py3-none-any.whl.metadata (3.3 kB)\n",
            "Requirement already satisfied: google-api-core<3.0.0,>=1.0.0 in /usr/local/lib/python3.11/dist-packages (from opencensus->ray[default]>=1.9.2; extra == \"parallel\"->pyphi[parallel]) (2.25.1)\n",
            "Collecting opentelemetry-api~=1.12 (from opentelemetry-exporter-prometheus->ray[default]>=1.9.2; extra == \"parallel\"->pyphi[parallel])\n",
            "  Downloading opentelemetry_api-1.34.1-py3-none-any.whl.metadata (1.5 kB)\n",
            "Collecting opentelemetry-semantic-conventions==0.55b1 (from opentelemetry-sdk->ray[default]>=1.9.2; extra == \"parallel\"->pyphi[parallel])\n",
            "  Downloading opentelemetry_semantic_conventions-0.55b1-py3-none-any.whl.metadata (2.5 kB)\n",
            "Requirement already satisfied: importlib-metadata<8.8.0,>=6.0 in /usr/local/lib/python3.11/dist-packages (from opentelemetry-api~=1.12->opentelemetry-exporter-prometheus->ray[default]>=1.9.2; extra == \"parallel\"->pyphi[parallel]) (8.7.0)\n",
            "Requirement already satisfied: charset-normalizer<4,>=2 in /usr/local/lib/python3.11/dist-packages (from requests->ray>=1.9.2->ray[default]>=1.9.2; extra == \"parallel\"->pyphi[parallel]) (3.4.2)\n",
            "Requirement already satisfied: idna<4,>=2.5 in /usr/local/lib/python3.11/dist-packages (from requests->ray>=1.9.2->ray[default]>=1.9.2; extra == \"parallel\"->pyphi[parallel]) (3.10)\n",
            "Requirement already satisfied: urllib3<3,>=1.21.1 in /usr/local/lib/python3.11/dist-packages (from requests->ray>=1.9.2->ray[default]>=1.9.2; extra == \"parallel\"->pyphi[parallel]) (2.4.0)\n",
            "Requirement already satisfied: certifi>=2017.4.17 in /usr/local/lib/python3.11/dist-packages (from requests->ray>=1.9.2->ray[default]>=1.9.2; extra == \"parallel\"->pyphi[parallel]) (2025.6.15)\n",
            "Requirement already satisfied: wrapt in /usr/local/lib/python3.11/dist-packages (from smart_open->ray[default]>=1.9.2; extra == \"parallel\"->pyphi[parallel]) (1.17.2)\n",
            "Requirement already satisfied: googleapis-common-protos<2.0.0,>=1.56.2 in /usr/local/lib/python3.11/dist-packages (from google-api-core<3.0.0,>=1.0.0->opencensus->ray[default]>=1.9.2; extra == \"parallel\"->pyphi[parallel]) (1.70.0)\n",
            "Requirement already satisfied: proto-plus<2.0.0,>=1.22.3 in /usr/local/lib/python3.11/dist-packages (from google-api-core<3.0.0,>=1.0.0->opencensus->ray[default]>=1.9.2; extra == \"parallel\"->pyphi[parallel]) (1.26.1)\n",
            "Requirement already satisfied: google-auth<3.0.0,>=2.14.1 in /usr/local/lib/python3.11/dist-packages (from google-api-core<3.0.0,>=1.0.0->opencensus->ray[default]>=1.9.2; extra == \"parallel\"->pyphi[parallel]) (2.38.0)\n",
            "Requirement already satisfied: cachetools<6.0,>=2.0.0 in /usr/local/lib/python3.11/dist-packages (from google-auth<3.0.0,>=2.14.1->google-api-core<3.0.0,>=1.0.0->opencensus->ray[default]>=1.9.2; extra == \"parallel\"->pyphi[parallel]) (5.5.2)\n",
            "Requirement already satisfied: pyasn1-modules>=0.2.1 in /usr/local/lib/python3.11/dist-packages (from google-auth<3.0.0,>=2.14.1->google-api-core<3.0.0,>=1.0.0->opencensus->ray[default]>=1.9.2; extra == \"parallel\"->pyphi[parallel]) (0.4.2)\n",
            "Requirement already satisfied: rsa<5,>=3.1.4 in /usr/local/lib/python3.11/dist-packages (from google-auth<3.0.0,>=2.14.1->google-api-core<3.0.0,>=1.0.0->opencensus->ray[default]>=1.9.2; extra == \"parallel\"->pyphi[parallel]) (4.9.1)\n",
            "Requirement already satisfied: zipp>=3.20 in /usr/local/lib/python3.11/dist-packages (from importlib-metadata<8.8.0,>=6.0->opentelemetry-api~=1.12->opentelemetry-exporter-prometheus->ray[default]>=1.9.2; extra == \"parallel\"->pyphi[parallel]) (3.23.0)\n",
            "Requirement already satisfied: pyasn1<0.7.0,>=0.6.1 in /usr/local/lib/python3.11/dist-packages (from pyasn1-modules>=0.2.1->google-auth<3.0.0,>=2.14.1->google-api-core<3.0.0,>=1.0.0->opencensus->ray[default]>=1.9.2; extra == \"parallel\"->pyphi[parallel]) (0.6.1)\n",
            "Downloading ray-2.47.1-cp311-cp311-manylinux2014_x86_64.whl (68.9 MB)\n",
            "\u001b[2K   \u001b[90m━━━━━━━━━━━━━━━━━━━━━━━━━━━━━━━━━━━━━━━━\u001b[0m \u001b[32m68.9/68.9 MB\u001b[0m \u001b[31m9.6 MB/s\u001b[0m eta \u001b[36m0:00:00\u001b[0m\n",
            "\u001b[?25hDownloading py_spy-0.4.0-py2.py3-none-manylinux_2_5_x86_64.manylinux1_x86_64.whl (2.7 MB)\n",
            "\u001b[2K   \u001b[90m━━━━━━━━━━━━━━━━━━━━━━━━━━━━━━━━━━━━━━━━\u001b[0m \u001b[32m2.7/2.7 MB\u001b[0m \u001b[31m31.9 MB/s\u001b[0m eta \u001b[36m0:00:00\u001b[0m\n",
            "\u001b[?25hDownloading virtualenv-20.31.2-py3-none-any.whl (6.1 MB)\n",
            "\u001b[2K   \u001b[90m━━━━━━━━━━━━━━━━━━━━━━━━━━━━━━━━━━━━━━━━\u001b[0m \u001b[32m6.1/6.1 MB\u001b[0m \u001b[31m67.8 MB/s\u001b[0m eta \u001b[36m0:00:00\u001b[0m\n",
            "\u001b[?25hDownloading aiohttp_cors-0.8.1-py3-none-any.whl (25 kB)\n",
            "Downloading colorful-0.5.7-py2.py3-none-any.whl (201 kB)\n",
            "\u001b[2K   \u001b[90m━━━━━━━━━━━━━━━━━━━━━━━━━━━━━━━━━━━━━━━━\u001b[0m \u001b[32m201.5/201.5 kB\u001b[0m \u001b[31m15.6 MB/s\u001b[0m eta \u001b[36m0:00:00\u001b[0m\n",
            "\u001b[?25hDownloading opencensus-0.11.4-py2.py3-none-any.whl (128 kB)\n",
            "\u001b[2K   \u001b[90m━━━━━━━━━━━━━━━━━━━━━━━━━━━━━━━━━━━━━━━━\u001b[0m \u001b[32m128.2/128.2 kB\u001b[0m \u001b[31m4.2 MB/s\u001b[0m eta \u001b[36m0:00:00\u001b[0m\n",
            "\u001b[?25hDownloading opentelemetry_exporter_prometheus-0.55b1-py3-none-any.whl (12 kB)\n",
            "Downloading opentelemetry_sdk-1.34.1-py3-none-any.whl (118 kB)\n",
            "\u001b[2K   \u001b[90m━━━━━━━━━━━━━━━━━━━━━━━━━━━━━━━━━━━━━━━━\u001b[0m \u001b[32m118.5/118.5 kB\u001b[0m \u001b[31m9.3 MB/s\u001b[0m eta \u001b[36m0:00:00\u001b[0m\n",
            "\u001b[?25hDownloading opentelemetry_api-1.34.1-py3-none-any.whl (65 kB)\n",
            "\u001b[2K   \u001b[90m━━━━━━━━━━━━━━━━━━━━━━━━━━━━━━━━━━━━━━━━\u001b[0m \u001b[32m65.8/65.8 kB\u001b[0m \u001b[31m4.9 MB/s\u001b[0m eta \u001b[36m0:00:00\u001b[0m\n",
            "\u001b[?25hDownloading opentelemetry_semantic_conventions-0.55b1-py3-none-any.whl (196 kB)\n",
            "\u001b[2K   \u001b[90m━━━━━━━━━━━━━━━━━━━━━━━━━━━━━━━━━━━━━━━━\u001b[0m \u001b[32m196.2/196.2 kB\u001b[0m \u001b[31m15.5 MB/s\u001b[0m eta \u001b[36m0:00:00\u001b[0m\n",
            "\u001b[?25hDownloading opentelemetry_proto-1.34.1-py3-none-any.whl (55 kB)\n",
            "\u001b[2K   \u001b[90m━━━━━━━━━━━━━━━━━━━━━━━━━━━━━━━━━━━━━━━━\u001b[0m \u001b[32m55.7/55.7 kB\u001b[0m \u001b[31m4.3 MB/s\u001b[0m eta \u001b[36m0:00:00\u001b[0m\n",
            "\u001b[?25hDownloading distlib-0.3.9-py2.py3-none-any.whl (468 kB)\n",
            "\u001b[2K   \u001b[90m━━━━━━━━━━━━━━━━━━━━━━━━━━━━━━━━━━━━━━━━\u001b[0m \u001b[32m469.0/469.0 kB\u001b[0m \u001b[31m29.8 MB/s\u001b[0m eta \u001b[36m0:00:00\u001b[0m\n",
            "\u001b[?25hDownloading opencensus_context-0.1.3-py2.py3-none-any.whl (5.1 kB)\n",
            "Installing collected packages: py-spy, opencensus-context, distlib, colorful, virtualenv, opentelemetry-proto, opentelemetry-api, opentelemetry-semantic-conventions, aiohttp_cors, ray, opentelemetry-sdk, opencensus, opentelemetry-exporter-prometheus\n",
            "Successfully installed aiohttp_cors-0.8.1 colorful-0.5.7 distlib-0.3.9 opencensus-0.11.4 opencensus-context-0.1.3 opentelemetry-api-1.34.1 opentelemetry-exporter-prometheus-0.55b1 opentelemetry-proto-1.34.1 opentelemetry-sdk-1.34.1 opentelemetry-semantic-conventions-0.55b1 py-spy-0.4.0 ray-2.47.1 virtualenv-20.31.2\n"
          ]
        }
      ]
    },
    {
      "cell_type": "code",
      "source": [
        "import pyphi\n",
        "import numpy as np\n",
        "\n",
        "# ✅ Disable parallel to avoid MissingOptionalDependenciesError\n",
        "pyphi.config.PARALLEL = False\n",
        "\n",
        "# Define TPM and connectivity matrix\n",
        "tpm = np.array([\n",
        "    [0,0,0,0],\n",
        "    [0,0,0,0],\n",
        "    [0,0,1,0],\n",
        "    [0,1,1,0],\n",
        "    [0,0,0,0],\n",
        "    [0,1,0,0],\n",
        "    [0,1,1,0],\n",
        "    [0,1,1,0],\n",
        "    [0,0,0,0],\n",
        "    [0,0,0,0],\n",
        "    [1,0,1,1],\n",
        "    [0,1,1,0],\n",
        "    [1,0,0,0],\n",
        "    [0,0,0,0],\n",
        "    [1,0,1,1],\n",
        "    [0,1,1,0]\n",
        "])\n",
        "\n",
        "cm = np.array([\n",
        "    [0,1,1,1],\n",
        "    [1,0,1,1],\n",
        "    [1,1,0,1],\n",
        "    [1,1,1,0]\n",
        "])\n",
        "\n",
        "labels = ('N0', 'N1', 'N2', 'N3')\n",
        "network = pyphi.Network(tpm, cm, node_labels=labels)\n",
        "\n",
        "print(\"State     Φ (phi)\")\n",
        "print(\"------------------\")\n",
        "for i in range(16):\n",
        "    state = tuple(int(x) for x in format(i, '04b'))\n",
        "    subsystem = pyphi.Subsystem(network, state)\n",
        "    phi = pyphi.compute.phi(subsystem)\n"
      ],
      "metadata": {
        "colab": {
          "base_uri": "https://localhost:8080/",
          "height": 564
        },
        "id": "Glr4xPRmpv4a",
        "outputId": "aa3b58ec-e8db-4515-b9ea-ea75fd5e0c4f"
      },
      "execution_count": 28,
      "outputs": [
        {
          "output_type": "stream",
          "name": "stdout",
          "text": [
            "State     Φ (phi)\n",
            "------------------\n"
          ]
        },
        {
          "output_type": "error",
          "ename": "MissingOptionalDependenciesError",
          "evalue": "Please re-install PyPhi with `pyphi[parallel]` to use this feature.",
          "traceback": [
            "\u001b[0;31m---------------------------------------------------------------------------\u001b[0m",
            "\u001b[0;31mMissingOptionalDependenciesError\u001b[0m          Traceback (most recent call last)",
            "\u001b[0;32m/tmp/ipython-input-28-1064500388.py\u001b[0m in \u001b[0;36m<cell line: 0>\u001b[0;34m()\u001b[0m\n\u001b[1;32m     40\u001b[0m     \u001b[0mstate\u001b[0m \u001b[0;34m=\u001b[0m \u001b[0mtuple\u001b[0m\u001b[0;34m(\u001b[0m\u001b[0mint\u001b[0m\u001b[0;34m(\u001b[0m\u001b[0mx\u001b[0m\u001b[0;34m)\u001b[0m \u001b[0;32mfor\u001b[0m \u001b[0mx\u001b[0m \u001b[0;32min\u001b[0m \u001b[0mformat\u001b[0m\u001b[0;34m(\u001b[0m\u001b[0mi\u001b[0m\u001b[0;34m,\u001b[0m \u001b[0;34m'04b'\u001b[0m\u001b[0;34m)\u001b[0m\u001b[0;34m)\u001b[0m\u001b[0;34m\u001b[0m\u001b[0;34m\u001b[0m\u001b[0m\n\u001b[1;32m     41\u001b[0m     \u001b[0msubsystem\u001b[0m \u001b[0;34m=\u001b[0m \u001b[0mpyphi\u001b[0m\u001b[0;34m.\u001b[0m\u001b[0mSubsystem\u001b[0m\u001b[0;34m(\u001b[0m\u001b[0mnetwork\u001b[0m\u001b[0;34m,\u001b[0m \u001b[0mstate\u001b[0m\u001b[0;34m)\u001b[0m\u001b[0;34m\u001b[0m\u001b[0;34m\u001b[0m\u001b[0m\n\u001b[0;32m---> 42\u001b[0;31m     \u001b[0mphi\u001b[0m \u001b[0;34m=\u001b[0m \u001b[0mpyphi\u001b[0m\u001b[0;34m.\u001b[0m\u001b[0mcompute\u001b[0m\u001b[0;34m.\u001b[0m\u001b[0mphi\u001b[0m\u001b[0;34m(\u001b[0m\u001b[0msubsystem\u001b[0m\u001b[0;34m)\u001b[0m\u001b[0;34m\u001b[0m\u001b[0;34m\u001b[0m\u001b[0m\n\u001b[0m",
            "\u001b[0;32m/usr/local/lib/python3.11/dist-packages/pyphi/compute/subsystem.py\u001b[0m in \u001b[0;36mphi\u001b[0;34m(subsystem)\u001b[0m\n\u001b[1;32m    317\u001b[0m \u001b[0;32mdef\u001b[0m \u001b[0mphi\u001b[0m\u001b[0;34m(\u001b[0m\u001b[0msubsystem\u001b[0m\u001b[0;34m)\u001b[0m\u001b[0;34m:\u001b[0m\u001b[0;34m\u001b[0m\u001b[0;34m\u001b[0m\u001b[0m\n\u001b[1;32m    318\u001b[0m     \u001b[0;34m\"\"\"Return the |big_phi| value of a subsystem.\"\"\"\u001b[0m\u001b[0;34m\u001b[0m\u001b[0;34m\u001b[0m\u001b[0m\n\u001b[0;32m--> 319\u001b[0;31m     \u001b[0;32mreturn\u001b[0m \u001b[0msia\u001b[0m\u001b[0;34m(\u001b[0m\u001b[0msubsystem\u001b[0m\u001b[0;34m)\u001b[0m\u001b[0;34m.\u001b[0m\u001b[0mphi\u001b[0m\u001b[0;34m\u001b[0m\u001b[0;34m\u001b[0m\u001b[0m\n\u001b[0m\u001b[1;32m    320\u001b[0m \u001b[0;34m\u001b[0m\u001b[0m\n\u001b[1;32m    321\u001b[0m \u001b[0;34m\u001b[0m\u001b[0m\n",
            "\u001b[0;32m/usr/local/lib/python3.11/dist-packages/pyphi/compute/subsystem.py\u001b[0m in \u001b[0;36msia\u001b[0;34m(subsystem, **kwargs)\u001b[0m\n\u001b[1;32m    312\u001b[0m     \u001b[0;32mif\u001b[0m \u001b[0mconfig\u001b[0m\u001b[0;34m.\u001b[0m\u001b[0mSYSTEM_CUTS\u001b[0m \u001b[0;34m==\u001b[0m \u001b[0;34m\"CONCEPT_STYLE\"\u001b[0m\u001b[0;34m:\u001b[0m\u001b[0;34m\u001b[0m\u001b[0;34m\u001b[0m\u001b[0m\n\u001b[1;32m    313\u001b[0m         \u001b[0;32mreturn\u001b[0m \u001b[0msia_concept_style\u001b[0m\u001b[0;34m(\u001b[0m\u001b[0msubsystem\u001b[0m\u001b[0;34m,\u001b[0m \u001b[0;34m**\u001b[0m\u001b[0mkwargs\u001b[0m\u001b[0;34m)\u001b[0m\u001b[0;34m\u001b[0m\u001b[0;34m\u001b[0m\u001b[0m\n\u001b[0;32m--> 314\u001b[0;31m     \u001b[0;32mreturn\u001b[0m \u001b[0m_sia\u001b[0m\u001b[0;34m(\u001b[0m\u001b[0msubsystem\u001b[0m\u001b[0;34m,\u001b[0m \u001b[0;34m**\u001b[0m\u001b[0mkwargs\u001b[0m\u001b[0;34m)\u001b[0m\u001b[0;34m\u001b[0m\u001b[0;34m\u001b[0m\u001b[0m\n\u001b[0m\u001b[1;32m    315\u001b[0m \u001b[0;34m\u001b[0m\u001b[0m\n\u001b[1;32m    316\u001b[0m \u001b[0;34m\u001b[0m\u001b[0m\n",
            "\u001b[0;32m/usr/local/lib/python3.11/dist-packages/pyphi/compute/subsystem.py\u001b[0m in \u001b[0;36m_sia\u001b[0;34m(subsystem, **kwargs)\u001b[0m\n\u001b[1;32m    275\u001b[0m \u001b[0;34m\u001b[0m\u001b[0m\n\u001b[1;32m    276\u001b[0m     \u001b[0mlog\u001b[0m\u001b[0;34m.\u001b[0m\u001b[0mdebug\u001b[0m\u001b[0;34m(\u001b[0m\u001b[0;34m\"Finding unpartitioned CauseEffectStructure...\"\u001b[0m\u001b[0;34m)\u001b[0m\u001b[0;34m\u001b[0m\u001b[0;34m\u001b[0m\u001b[0m\n\u001b[0;32m--> 277\u001b[0;31m     \u001b[0munpartitioned_ces\u001b[0m \u001b[0;34m=\u001b[0m \u001b[0m_ces\u001b[0m\u001b[0;34m(\u001b[0m\u001b[0msubsystem\u001b[0m\u001b[0;34m,\u001b[0m \u001b[0mprogress\u001b[0m\u001b[0;34m=\u001b[0m\u001b[0mkwargs\u001b[0m\u001b[0;34m.\u001b[0m\u001b[0mget\u001b[0m\u001b[0;34m(\u001b[0m\u001b[0;34m\"progress\"\u001b[0m\u001b[0;34m)\u001b[0m\u001b[0;34m)\u001b[0m\u001b[0;34m\u001b[0m\u001b[0;34m\u001b[0m\u001b[0m\n\u001b[0m\u001b[1;32m    278\u001b[0m \u001b[0;34m\u001b[0m\u001b[0m\n\u001b[1;32m    279\u001b[0m     \u001b[0;32mif\u001b[0m \u001b[0;32mnot\u001b[0m \u001b[0munpartitioned_ces\u001b[0m\u001b[0;34m:\u001b[0m\u001b[0;34m\u001b[0m\u001b[0;34m\u001b[0m\u001b[0m\n",
            "\u001b[0;32m/usr/local/lib/python3.11/dist-packages/pyphi/compute/subsystem.py\u001b[0m in \u001b[0;36m_ces\u001b[0;34m(subsystem, **kwargs)\u001b[0m\n\u001b[1;32m    199\u001b[0m     \"\"\"\n\u001b[1;32m    200\u001b[0m     \u001b[0mkwargs\u001b[0m \u001b[0;34m=\u001b[0m \u001b[0;34m{\u001b[0m\u001b[0;34m\"parallel\"\u001b[0m\u001b[0;34m:\u001b[0m \u001b[0mconfig\u001b[0m\u001b[0;34m.\u001b[0m\u001b[0mPARALLEL_CUT_EVALUATION\u001b[0m\u001b[0;34m,\u001b[0m \u001b[0;34m**\u001b[0m\u001b[0mkwargs\u001b[0m\u001b[0;34m}\u001b[0m\u001b[0;34m\u001b[0m\u001b[0;34m\u001b[0m\u001b[0m\n\u001b[0;32m--> 201\u001b[0;31m     \u001b[0;32mreturn\u001b[0m \u001b[0mces\u001b[0m\u001b[0;34m(\u001b[0m\u001b[0msubsystem\u001b[0m\u001b[0;34m,\u001b[0m \u001b[0;34m**\u001b[0m\u001b[0mkwargs\u001b[0m\u001b[0;34m)\u001b[0m\u001b[0;34m\u001b[0m\u001b[0;34m\u001b[0m\u001b[0m\n\u001b[0m\u001b[1;32m    202\u001b[0m \u001b[0;34m\u001b[0m\u001b[0m\n\u001b[1;32m    203\u001b[0m \u001b[0;34m\u001b[0m\u001b[0m\n",
            "\u001b[0;32m/usr/local/lib/python3.11/dist-packages/pyphi/compute/subsystem.py\u001b[0m in \u001b[0;36mces\u001b[0;34m(subsystem, mechanisms, purviews, cause_purviews, effect_purviews, directions, only_positive_phi, **kwargs)\u001b[0m\n\u001b[1;32m     82\u001b[0m     \u001b[0mreduce_func\u001b[0m \u001b[0;34m=\u001b[0m \u001b[0m_only_positive_phi\u001b[0m \u001b[0;32mif\u001b[0m \u001b[0monly_positive_phi\u001b[0m \u001b[0;32melse\u001b[0m \u001b[0m_any_phi\u001b[0m\u001b[0;34m\u001b[0m\u001b[0;34m\u001b[0m\u001b[0m\n\u001b[1;32m     83\u001b[0m     \u001b[0mparallel_kwargs\u001b[0m \u001b[0;34m=\u001b[0m \u001b[0mconf\u001b[0m\u001b[0;34m.\u001b[0m\u001b[0mparallel_kwargs\u001b[0m\u001b[0;34m(\u001b[0m\u001b[0mconfig\u001b[0m\u001b[0;34m.\u001b[0m\u001b[0mPARALLEL_CONCEPT_EVALUATION\u001b[0m\u001b[0;34m,\u001b[0m \u001b[0;34m**\u001b[0m\u001b[0mkwargs\u001b[0m\u001b[0;34m)\u001b[0m\u001b[0;34m\u001b[0m\u001b[0;34m\u001b[0m\u001b[0m\n\u001b[0;32m---> 84\u001b[0;31m     concepts = MapReduce(\n\u001b[0m\u001b[1;32m     85\u001b[0m         \u001b[0mcompute_concept\u001b[0m\u001b[0;34m,\u001b[0m\u001b[0;34m\u001b[0m\u001b[0;34m\u001b[0m\u001b[0m\n\u001b[1;32m     86\u001b[0m         \u001b[0mmechanisms\u001b[0m\u001b[0;34m,\u001b[0m\u001b[0;34m\u001b[0m\u001b[0;34m\u001b[0m\u001b[0m\n",
            "\u001b[0;32m/usr/local/lib/python3.11/dist-packages/pyphi/parallel/__init__.py\u001b[0m in \u001b[0;36m__init__\u001b[0;34m(self, map_func, iterable, reduce_func, reduce_kwargs, parallel, ordered, total, chunksize, sequential_threshold, max_depth, max_size, max_leaves, branch_factor, shortcircuit_func, shortcircuit_callback, shortcircuit_callback_args, inflight_limit, progress, desc, map_kwargs, *iterables)\u001b[0m\n\u001b[1;32m    309\u001b[0m         \u001b[0;32mif\u001b[0m \u001b[0mself\u001b[0m\u001b[0;34m.\u001b[0m\u001b[0mparallel\u001b[0m\u001b[0;34m:\u001b[0m\u001b[0;34m\u001b[0m\u001b[0;34m\u001b[0m\u001b[0m\n\u001b[1;32m    310\u001b[0m             \u001b[0;32mif\u001b[0m \u001b[0mNO_RAY\u001b[0m\u001b[0;34m:\u001b[0m\u001b[0;34m\u001b[0m\u001b[0;34m\u001b[0m\u001b[0m\n\u001b[0;32m--> 311\u001b[0;31m                 raise MissingOptionalDependenciesError(\n\u001b[0m\u001b[1;32m    312\u001b[0m                     MissingOptionalDependenciesError.MSG.format(\n\u001b[1;32m    313\u001b[0m                         \u001b[0mdependencies\u001b[0m\u001b[0;34m=\u001b[0m\u001b[0;34m\"parallel\"\u001b[0m\u001b[0;34m\u001b[0m\u001b[0;34m\u001b[0m\u001b[0m\n",
            "\u001b[0;31mMissingOptionalDependenciesError\u001b[0m: Please re-install PyPhi with `pyphi[parallel]` to use this feature.",
            "",
            "\u001b[0;31m---------------------------------------------------------------------------\u001b[0;32m\nNOTE: If your import is failing due to a missing package, you can\nmanually install dependencies using either !pip or !apt.\n\nTo view examples of installing some common dependencies, click the\n\"Open Examples\" button below.\n\u001b[0;31m---------------------------------------------------------------------------\u001b[0m\n"
          ],
          "errorDetails": {
            "actions": [
              {
                "action": "open_url",
                "actionText": "Open Examples",
                "url": "/notebooks/snippets/importing_libraries.ipynb"
              }
            ]
          }
        }
      ]
    },
    {
      "cell_type": "code",
      "source": [],
      "metadata": {
        "id": "A5sCPQLPuZwx"
      },
      "execution_count": null,
      "outputs": []
    },
    {
      "cell_type": "code",
      "source": [],
      "metadata": {
        "id": "8eqyTud1uwaS"
      },
      "execution_count": null,
      "outputs": []
    }
  ]
}